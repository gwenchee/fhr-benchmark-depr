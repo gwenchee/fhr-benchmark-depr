{
 "cells": [
  {
   "cell_type": "code",
   "execution_count": 1,
   "metadata": {},
   "outputs": [
    {
     "data": {
      "text/plain": [
       "'\\nA1,A2,A3: refer to different areas \\nOuter hexagon: HO\\nInner hecagon: HI\\nDiamond Plank Area: D \\nPlank Area: P\\nFuel Area: F \\nTriso Particles: T\\nSpacers: S \\nControl Rod Slot: CS\\nControl Rod Arm: CA \\n'"
      ]
     },
     "execution_count": 1,
     "metadata": {},
     "output_type": "execute_result"
    }
   ],
   "source": [
    "# Separately make each plank area (could use cell rotate, but there is no region rotate.)\n",
    "# Use a loop to make the planks in each area (translate region)\n",
    "# Building from out -> in \n",
    "\n",
    "\"\"\"\n",
    "A1,A2,A3: refer to different areas \n",
    "Outer hexagon: HO\n",
    "Inner hecagon: HI\n",
    "Diamond Plank Area: D \n",
    "Plank Area: P\n",
    "Fuel Area: F \n",
    "Triso Particles: T\n",
    "Spacers: S \n",
    "Control Rod Slot: CS\n",
    "Control Rod Arm: CA \n",
    "\"\"\""
   ]
  },
  {
   "cell_type": "code",
   "execution_count": 2,
   "metadata": {},
   "outputs": [],
   "source": [
    "%matplotlib inline\n",
    "from math import pi\n",
    "import numpy as np\n",
    "import matplotlib.pyplot as plt\n",
    "import openmc\n",
    "import openmc.model\n",
    "from numpy import sin, cos, tan, pi\n",
    "import operator"
   ]
  },
  {
   "cell_type": "code",
   "execution_count": 3,
   "metadata": {},
   "outputs": [
    {
     "data": {
      "text/plain": [
       "'0.11.0'"
      ]
     },
     "execution_count": 3,
     "metadata": {},
     "output_type": "execute_result"
    }
   ],
   "source": [
    "openmc.__version__"
   ]
  },
  {
   "cell_type": "code",
   "execution_count": 4,
   "metadata": {},
   "outputs": [],
   "source": [
    "# Materials \n",
    "uoc_9 = openmc.Material()\n",
    "uoc_9.set_density('g/cc', 11)\n",
    "uoc_9.add_nuclide('U235', 2.27325e-3)\n",
    "uoc_9.add_nuclide('U238', 2.269476e-2)\n",
    "uoc_9.add_nuclide('O16', 3.561871e-2)\n",
    "uoc_9.add_nuclide('C0',9.79714e-3)\n",
    "uoc_9.temperature = 1110\n",
    "\n",
    "\"\"\"\n",
    "uoc_19 = openmc.Material()\n",
    "uoc_19.set_density('g/cc', 11)\n",
    "uoc_19.add_nuclide('U235', 4.98781e-3)\n",
    "uoc_19.add_nuclide('U238', 2.001094e-2)\n",
    "uoc_19.add_nuclide('O16', 3.566255e-2)\n",
    "uoc_19.add_nuclide('C12',9.80920e-3)\"\"\"\n",
    "\n",
    "por_c = openmc.Material()\n",
    "por_c.set_density('g/cc',1)\n",
    "por_c.add_nuclide('C0',5.013980e-2)\n",
    "por_c.temperature = 948\n",
    "\n",
    "si_c = openmc.Material()\n",
    "si_c.set_density('g/cc', 3.2)\n",
    "si_c.add_nuclide('Si28', 4.431240e-2)\n",
    "si_c.add_nuclide('Si29', 2.25887e-3)\n",
    "si_c.add_nuclide('Si30', 1.48990e-3)\n",
    "si_c.add_nuclide('C0', 4.806117e-2)\n",
    "si_c.temperature = 948\n",
    "\n",
    "graphite = openmc.Material()\n",
    "graphite.set_density('g/cc', 1.8)\n",
    "graphite.add_nuclide('C0', 9.025164e-2)\n",
    "graphite.temperature = 948\n",
    "\n",
    "p_graphite = openmc.Material()\n",
    "p_graphite.set_density('g/cc', 1.8)\n",
    "p_graphite.add_nuclide('C0', 9.025164e-2)\n",
    "p_graphite.temperature = 948\n",
    "\n",
    "s_graphite = openmc.Material()\n",
    "s_graphite.set_density('g/cc', 1.8)\n",
    "s_graphite.add_nuclide('C0', 9.025164e-2)\n",
    "s_graphite.temperature = 948\n",
    "\n",
    "lm_graphite = openmc.Material()\n",
    "lm_graphite.set_density('g/cc', 1.8)\n",
    "lm_graphite.add_nuclide('C0', 9.025164e-2)\n",
    "lm_graphite.temperature = 948\n",
    "\n",
    "flibe = openmc.Material()\n",
    "flibe.set_density('g/cc',1.95)\n",
    "flibe.add_nuclide('Li6',1.383014e-6)\n",
    "flibe.add_nuclide('Li7',2.37132e-2)\n",
    "flibe.add_nuclide('Be9',1.18573e-2)\n",
    "flibe.add_nuclide('F19',4.74291e-2)\n",
    "flibe.temperature = 948\n",
    "\n",
    "mhc = openmc.Material()\n",
    "mhc.set_density('g/cc', 10.28)\n",
    "mhc.add_nuclide('Mo92', 9.328884e-3)\n",
    "mhc.add_nuclide('Mo94', 5.850533e-3)\n",
    "mhc.add_nuclide('Mo95', 1.010836e-2)\n",
    "mhc.add_nuclide('Mo96', 1.061782e-2)\n",
    "mhc.add_nuclide('Mo97', 6.102080e-3)\n",
    "mhc.add_nuclide('Mo98', 1.546981e-2)\n",
    "mhc.add_nuclide('Mo100', 6.205246e-3)\n",
    "mhc.add_nuclide('Hf174', 6.659530e-7)\n",
    "mhc.add_nuclide('Hf176', 2.189321e-5)\n",
    "mhc.add_nuclide('Hf177', 7.741704e-5)\n",
    "mhc.add_nuclide('Hf178', 1.135450e-4)\n",
    "mhc.add_nuclide('Hf179', 5.668925e-5)\n",
    "mhc.add_nuclide('Hf180', 1.460102e-4)\n",
    "mhc.add_nuclide('C0', 5.154371e-4)\n",
    "mhc.temperature = 948\n",
    "\n",
    "\"\"\"\n",
    "euo_s = openmc.Material()\n",
    "euo_s.set_density('g/cc',5)\n",
    "euo_s.add_nuclide('Eu151',8.179510e-3)\n",
    "euo_s.add_nuclide('Eu153',8.932435e-3)\n",
    "euo_s.add_nuclide('O16',2.56792e-2)\"\"\"\n",
    "\n",
    "# how to determine wt% of density? \n",
    "#euo_p = openmc.Material()\n",
    "#euo_p.set_density('g/cm3',0.0521)\n",
    "#euo_p.add_nuclide('Eu151',8.179510e-3)\n",
    "#euo_p.add_nuclide('Eu153',8.932435e-3)\n",
    "#euo_p.add_nuclide('O16',2.56792e-2)\n",
    "\n",
    "mats = openmc.Materials((uoc_9,por_c,si_c,graphite,p_graphite,lm_graphite,flibe,mhc,s_graphite))\n",
    "mats.export_to_xml()"
   ]
  },
  {
   "cell_type": "code",
   "execution_count": 5,
   "metadata": {},
   "outputs": [],
   "source": [
    "# constants\n",
    "H_side = 22.5/np.sin(np.pi/3)\n",
    "\n",
    "P_len = 23.1 # plank length\n",
    "P_D_jut = 2-1.4948\n",
    "P_D_jut_hyp = P_D_jut/sin(pi/3)\n",
    "P_D_jut_adj = P_D_jut/sin(pi/3)\n",
    "P_small_gap = 0.35\n",
    "P_A1_height = 2.55\n",
    "P_A1_adj = P_A1_height/tan(pi/3)\n",
    "P_big_gap = 0.7\n",
    "\n",
    "P_A2_hyp =  P_A1_height/sin(pi/3)\n",
    "P_big_gap_A2_hyp = P_big_gap/sin(pi/3)\n",
    "P_A3_hyp = P_A1_height/sin(pi/3)\n",
    "P_big_gap_A3_hyp = P_big_gap/sin(pi/3)\n",
    "\n",
    "D_to_center = 2\n",
    "D_to_center_width = D_to_center*tan(pi/6)\n",
    "D_A1_width = P_len - 2*(P_D_jut)\n",
    "D_A1_height = 19.5\n",
    "D_A1_adj = D_A1_height/np.tan(np.pi/3)\n",
    "\n",
    "T_pitch = 0.09266\n",
    "\n",
    "F_protect_gap = 0.1\n",
    "F_width = T_pitch*(4)\n",
    "F_len = T_pitch*(210)\n",
    "F_A1_D_gap = (D_A1_width-F_len)/2\n",
    "F_F_gap = P_A1_height - 2*F_width -2*F_protect_gap\n",
    "F_F_gap_adj = F_F_gap/tan(pi/3)\n",
    "F_A1_width_adj = F_width/tan(pi/3)\n",
    "F_F_gap_A2_hyp = F_F_gap/sin(pi/3)\n",
    "F_A2_width_hyp = F_width/sin(pi/3)\n",
    "F_F_gap_A3_hyp = F_F_gap/sin(pi/3)\n",
    "F_F_gap_A3_adj = F_F_gap_A3_hyp*cos(pi/3)\n",
    "F_F_gap_A3_opp = F_F_gap_A3_hyp*sin(pi/3)\n",
    "F_A3_width_adj = F_width*cos(pi/3)\n",
    "F_A3_width_opp = F_width*sin(pi/3)\n",
    "\n",
    "S_S_gap = 14\n",
    "S_A1_D_gap = (D_A1_width-S_S_gap)/2\n",
    "S_large_r = 0.7\n",
    "S_small_r = 0.35\n",
    "\n",
    "CS_l = 10.38\n",
    "CS_w = 1.76\n",
    "CA_l = 10\n",
    "CA_w = 1 "
   ]
  },
  {
   "cell_type": "code",
   "execution_count": 6,
   "metadata": {},
   "outputs": [],
   "source": [
    "# top and bottom surfaces (thin dz)\n",
    "top_surface = openmc.ZPlane(z0=T_pitch/2, boundary_type='reflective')\n",
    "bot_surface = openmc.ZPlane(z0=-T_pitch/2, boundary_type='reflective')"
   ]
  },
  {
   "cell_type": "code",
   "execution_count": 7,
   "metadata": {},
   "outputs": [],
   "source": [
    "## Outermost Hexagon (only hexagon)\n",
    "H_cell = openmc.Cell(fill=graphite)\n",
    "H_cell.region = openmc.model.hexagonal_prism(\n",
    "    edge_length=H_side,\n",
    "    orientation = 'x',\n",
    "    boundary_type='reflective') &-top_surface &+ bot_surface"
   ]
  },
  {
   "cell_type": "code",
   "execution_count": 8,
   "metadata": {},
   "outputs": [],
   "source": [
    "def plane(m,x,y): \n",
    "    return openmc.Plane(a=-m,b=1,d=-m*x+y)\n",
    "\n",
    "def region_maker(area,area_type):\n",
    "    if area in ['A1','A3']:\n",
    "        if V[area][area_type]['L']['m'] == 0.0 and V[area][area_type]['R']['m'] == 0.0: \n",
    "            region = -plane(V[area][area_type]['T']['m'],V[area][area_type]['T']['x'],V[area][area_type]['T']['y']) &\\\n",
    "                     +plane(V[area][area_type]['B']['m'],V[area][area_type]['B']['x'],V[area][area_type]['B']['y']) &\\\n",
    "                     +openmc.XPlane(x0=V[area][area_type]['L']['x']) &\\\n",
    "                     -openmc.XPlane(x0=V[area][area_type]['R']['x'])     \n",
    "        else: \n",
    "            region = -plane(V[area][area_type]['T']['m'],V[area][area_type]['T']['x'],V[area][area_type]['T']['y']) &\\\n",
    "                     +plane(V[area][area_type]['B']['m'],V[area][area_type]['B']['x'],V[area][area_type]['B']['y']) &\\\n",
    "                     +plane(V[area][area_type]['L']['m'],V[area][area_type]['L']['x'],V[area][area_type]['L']['y']) &\\\n",
    "                     -plane(V[area][area_type]['R']['m'],V[area][area_type]['R']['x'],V[area][area_type]['R']['y']) \n",
    "        \n",
    "    elif area in ['A2']:\n",
    "        region = -plane(V[area][area_type]['T']['m'],V[area][area_type]['T']['x'],V[area][area_type]['T']['y']) &\\\n",
    "                 +plane(V[area][area_type]['B']['m'],V[area][area_type]['B']['x'],V[area][area_type]['B']['y']) &\\\n",
    "                 -plane(V[area][area_type]['L']['m'],V[area][area_type]['L']['x'],V[area][area_type]['L']['y']) &\\\n",
    "                 +plane(V[area][area_type]['R']['m'],V[area][area_type]['R']['x'],V[area][area_type]['R']['y']) \n",
    "    else: \n",
    "        raise Exception('Your region type has yet to be defined.')\n",
    "    return region \n",
    "\n",
    "def rx(x_i,y_i,t):\n",
    "    return x_i*cos(t)-y_i*sin(t)\n",
    "\n",
    "def ry(x_i,y_i,t):\n",
    "    return x_i*sin(t)+y_i*cos(t)"
   ]
  },
  {
   "cell_type": "code",
   "execution_count": 9,
   "metadata": {},
   "outputs": [],
   "source": [
    "# geometry for planes \n",
    "\n",
    "m1 = -D_A1_height/D_A1_adj\n",
    "m2 = D_A1_width*np.sin(np.pi/3)/(D_A1_width*np.cos(np.pi/3))\n",
    "\n",
    "V = {'A1':{},'A2':{},'A3':{}}\n",
    "\n",
    "V['A1'] = {'D':{'T':{},'B':{},'L':{},'R':{}},\n",
    "           'P':{'T':{},'B':{},'L':{},'R':{}},\n",
    "           'F':{'T':{},'B':{},'L':{},'R':{}},\n",
    "           'S':{'C':{},'Cb':{}},\n",
    "           'CS':{'T':{},'B':{},'L':{},'R':{}},\n",
    "           'CA':{'T':{},'B':{},'L':{},'R':{}}}\n",
    "V['A2'] = {'D':{'T':{},'B':{},'L':{},'R':{}},\n",
    "           'P':{'T':{},'B':{},'L':{},'R':{}},\n",
    "           'F':{'T':{},'B':{},'L':{},'R':{}},\n",
    "           'S':{'C':{},'Cb':{}},\n",
    "           'CS':{'T':{},'B':{},'L':{},'R':{}},\n",
    "           'CA':{'T':{},'B':{},'L':{},'R':{}}}\n",
    "V['A3'] = {'D':{'T':{},'B':{},'L':{},'R':{}},\n",
    "           'P':{'T':{},'B':{},'L':{},'R':{}},\n",
    "           'F':{'T':{},'B':{},'L':{},'R':{}},\n",
    "           'S':{'C':{},'Cb':{}},\n",
    "           'CS':{'T':{},'B':{},'L':{},'R':{}},\n",
    "           'CA':{'T':{},'B':{},'L':{},'R':{}}}\n",
    "\n",
    "V['A1']['D']['T'] = {'m':0, 'x':0, 'y':-D_to_center}\n",
    "V['A1']['D']['B'] = {'m':0, 'x':0, 'y':-D_to_center-D_A1_height}\n",
    "V['A1']['D']['R'] = {'m':m1, 'x':-D_to_center_width, 'y':-D_to_center}\n",
    "V['A1']['D']['L'] = {'m':m1, 'x':V['A1']['D']['R']['x']-D_A1_width, 'y':-D_to_center}\n",
    "\n",
    "V['A1']['P']['T'] = {'m':0, 'x':0, 'y':V['A1']['D']['T']['y']-P_small_gap}\n",
    "V['A1']['P']['B'] = {'m':0, 'x':0, 'y':V['A1']['P']['T']['y']-P_A1_height}\n",
    "V['A1']['P']['R'] = {'m':m1, 'x':V['A1']['D']['R']['x']+P_small_gap*tan(pi/6)+P_D_jut_hyp, 'y':V['A1']['D']['R']['y']-P_small_gap}\n",
    "V['A1']['P']['L'] = {'m':m1, 'x':V['A1']['D']['L']['x']+P_small_gap*tan(pi/6)-P_D_jut_hyp, 'y':V['A1']['D']['L']['y']-P_small_gap}\n",
    "\n",
    "V['A1']['F']['T'] = {'m':0, 'x':V['A1']['D']['R']['x']-F_A1_D_gap, 'y':V['A1']['P']['T']['y']-F_protect_gap}\n",
    "V['A1']['F']['B'] = {'m':0, 'x':V['A1']['F']['T']['x'], 'y':V['A1']['F']['T']['y']-F_width}\n",
    "V['A1']['F']['R'] = {'m':0, 'x':V['A1']['D']['R']['x']-F_A1_D_gap, 'y':V['A1']['F']['T']['y']}\n",
    "V['A1']['F']['L'] = {'m':0, 'x':V['A1']['D']['L']['x']+F_A1_D_gap, 'y':V['A1']['F']['T']['y']}\n",
    "\n",
    "V['A1']['S']['C'] = {'x0':-D_to_center_width-S_A1_D_gap,'y0':-D_to_center-P_small_gap}\n",
    "V['A1']['S']['Cb'] = {'x0':-D_to_center_width-S_A1_D_gap+P_A1_adj,'y0':-D_to_center-P_small_gap-P_A1_height}\n",
    "\n",
    "V['A1']['CS']['T'] = {'m':0, 'x':0, 'y':CS_w/2}\n",
    "V['A1']['CS']['B'] = {'m':0, 'x':0, 'y':-CS_w/2}\n",
    "V['A1']['CS']['R'] = {'m':0, 'x':0, 'y':0}\n",
    "V['A1']['CS']['L'] = {'m':0, 'x':-CS_l, 'y':0}\n",
    "\n",
    "V['A1']['CA']['T'] = {'m':0, 'x':0, 'y':CA_w/2}\n",
    "V['A1']['CA']['B'] = {'m':0, 'x':0, 'y':-CA_w/2}\n",
    "V['A1']['CA']['R'] = {'m':0, 'x':0, 'y':0}\n",
    "V['A1']['CA']['L'] = {'m':0, 'x':-CA_l, 'y':0}\n",
    "\n",
    "A2_t = -pi/3*2\n",
    "V['A2']['D']['T'] = {'m':0, 'x':rx(V['A1']['D']['L']['x'],V['A1']['D']['L']['y'],A2_t), 'y':ry(V['A1']['D']['L']['x'],V['A1']['D']['L']['y'],A2_t)}\n",
    "V['A2']['D']['B'] = {'m':0, 'x':rx(V['A1']['D']['R']['x'],V['A1']['D']['R']['y'],A2_t), 'y':ry(V['A1']['D']['R']['x'],V['A1']['D']['R']['y'],A2_t)}\n",
    "V['A2']['D']['R'] = {'m':m2, 'x':rx(V['A1']['D']['T']['x'],V['A1']['D']['T']['y'],A2_t), 'y':ry(V['A1']['D']['T']['x'],V['A1']['D']['T']['y'],A2_t)}\n",
    "V['A2']['D']['L'] = {'m':m2, 'x':rx(V['A1']['D']['B']['x'],V['A1']['D']['B']['y'],A2_t), 'y':ry(V['A1']['D']['B']['x'],V['A1']['D']['B']['y'],A2_t)}\n",
    "\n",
    "V['A2']['P']['T'] = {'m':0, 'x':rx(V['A1']['P']['L']['x'],V['A1']['P']['L']['y'],A2_t), 'y':ry(V['A1']['P']['L']['x'],V['A1']['P']['L']['y'],A2_t)}\n",
    "V['A2']['P']['B'] = {'m':0, 'x':rx(V['A1']['P']['R']['x'],V['A1']['P']['R']['y'],A2_t), 'y':ry(V['A1']['P']['R']['x'],V['A1']['P']['R']['y'],A2_t)}\n",
    "V['A2']['P']['R'] = {'m':m2, 'x':rx(V['A1']['P']['T']['x'],V['A1']['P']['T']['y'],A2_t), 'y':ry(V['A1']['P']['T']['x'],V['A1']['P']['T']['y'],A2_t)}\n",
    "V['A2']['P']['L'] = {'m':m2, 'x':rx(V['A1']['P']['B']['x'],V['A1']['P']['B']['y'],A2_t), 'y':ry(V['A1']['P']['B']['x'],V['A1']['P']['B']['y'],A2_t)}\n",
    "\n",
    "V['A2']['F']['T'] = {'m':-1/m2, 'x':rx(V['A1']['F']['L']['x'],V['A1']['F']['L']['y'],A2_t), 'y':ry(V['A1']['F']['L']['x'],V['A1']['F']['L']['y'],A2_t)}\n",
    "V['A2']['F']['B'] = {'m':-1/m2, 'x':rx(V['A1']['F']['R']['x'],V['A1']['F']['R']['y'],A2_t), 'y':ry(V['A1']['F']['R']['x'],V['A1']['F']['R']['y'],A2_t)}\n",
    "V['A2']['F']['R'] = {'m':m2, 'x':rx(V['A1']['F']['T']['x'],V['A1']['F']['T']['y'],A2_t), 'y':ry(V['A1']['F']['T']['x'],V['A1']['F']['T']['y'],A2_t)}\n",
    "V['A2']['F']['L'] = {'m':m2, 'x':rx(V['A1']['F']['B']['x'],V['A1']['F']['B']['y'],A2_t), 'y':ry(V['A1']['F']['B']['x'],V['A1']['F']['B']['y'],A2_t)}\n",
    "\n",
    "V['A2']['S']['C'] = {'x0':rx(V['A1']['S']['C']['x0'],V['A1']['S']['C']['y0'],A2_t),'y0':ry(V['A1']['S']['C']['x0'],V['A1']['S']['C']['y0'],A2_t)}\n",
    "V['A2']['S']['Cb'] = {'x0':rx(V['A1']['S']['Cb']['x0'],V['A1']['S']['Cb']['y0'],A2_t),'y0':ry(V['A1']['S']['Cb']['x0'],V['A1']['S']['Cb']['y0'],A2_t)}\n",
    "\n",
    "V['A2']['CS']['T'] = {'m':-1/m2, 'x':rx(V['A1']['CS']['L']['x'],V['A1']['CS']['L']['y'],A2_t), 'y':ry(V['A1']['CS']['L']['x'],V['A1']['CS']['L']['y'],A2_t)}\n",
    "V['A2']['CS']['B'] = {'m':-1/m2, 'x':rx(V['A1']['CS']['R']['x'],V['A1']['CS']['R']['y'],A2_t), 'y':ry(V['A1']['CS']['R']['x'],V['A1']['CS']['R']['y'],A2_t)}\n",
    "V['A2']['CS']['R'] = {'m':m2, 'x':rx(V['A1']['CS']['T']['x'],V['A1']['CS']['T']['y'],A2_t), 'y':ry(V['A1']['CS']['T']['x'],V['A1']['CS']['T']['y'],A2_t)}\n",
    "V['A2']['CS']['L'] = {'m':m2, 'x':rx(V['A1']['CS']['B']['x'],V['A1']['CS']['B']['y'],A2_t), 'y':ry(V['A1']['CS']['B']['x'],V['A1']['CS']['B']['y'],A2_t)}\n",
    "\n",
    "V['A2']['CA']['T'] = {'m':-1/m2, 'x':rx(V['A1']['CA']['L']['x'],V['A1']['CA']['L']['y'],A2_t), 'y':ry(V['A1']['CA']['L']['x'],V['A1']['CA']['L']['y'],A2_t)}\n",
    "V['A2']['CA']['B'] = {'m':-1/m2, 'x':rx(V['A1']['CA']['R']['x'],V['A1']['CA']['R']['y'],A2_t), 'y':ry(V['A1']['CA']['R']['x'],V['A1']['CA']['R']['y'],A2_t)}\n",
    "V['A2']['CA']['R'] = {'m':m2, 'x':rx(V['A1']['CA']['T']['x'],V['A1']['CA']['T']['y'],A2_t), 'y':ry(V['A1']['CA']['T']['x'],V['A1']['CA']['T']['y'],A2_t)}\n",
    "V['A2']['CA']['L'] = {'m':m2, 'x':rx(V['A1']['CA']['B']['x'],V['A1']['CA']['B']['y'],A2_t), 'y':ry(V['A1']['CA']['B']['x'],V['A1']['CA']['B']['y'],A2_t)}\n",
    "\n",
    "A3_t = pi/3*2\n",
    "V['A3']['D']['T'] = {'m':m2, 'x':rx(V['A1']['D']['R']['x'],V['A1']['D']['R']['y'],A3_t), 'y':ry(V['A1']['D']['R']['x'],V['A1']['D']['R']['y'],A3_t)}\n",
    "V['A3']['D']['B'] = {'m':m2, 'x':rx(V['A1']['D']['L']['x'],V['A1']['D']['L']['y'],A3_t), 'y':ry(V['A1']['D']['L']['x'],V['A1']['D']['L']['y'],A3_t)}\n",
    "V['A3']['D']['R'] = {'m':m1, 'x':rx(V['A1']['D']['B']['x'],V['A1']['D']['B']['y'],A3_t), 'y':ry(V['A1']['D']['B']['x'],V['A1']['D']['B']['y'],A3_t)}\n",
    "V['A3']['D']['L'] = {'m':m1, 'x':rx(V['A1']['D']['T']['x'],V['A1']['D']['T']['y'],A3_t), 'y':ry(V['A1']['D']['T']['x'],V['A1']['D']['T']['y'],A3_t)}\n",
    "\n",
    "V['A3']['P']['T'] = {'m':m2, 'x':rx(V['A1']['P']['R']['x'],V['A1']['P']['R']['y'],A3_t), 'y':ry(V['A1']['P']['R']['x'],V['A1']['P']['R']['y'],A3_t)}\n",
    "V['A3']['P']['B'] = {'m':m2, 'x':rx(V['A1']['P']['L']['x'],V['A1']['P']['L']['y'],A3_t), 'y':ry(V['A1']['P']['L']['x'],V['A1']['P']['L']['y'],A3_t)}\n",
    "V['A3']['P']['R'] = {'m':m1, 'x':rx(V['A1']['P']['B']['x'],V['A1']['P']['B']['y'],A3_t), 'y':ry(V['A1']['P']['B']['x'],V['A1']['P']['B']['y'],A3_t)}\n",
    "V['A3']['P']['L'] = {'m':m1, 'x':rx(V['A1']['P']['T']['x'],V['A1']['P']['T']['y'],A3_t), 'y':ry(V['A1']['P']['T']['x'],V['A1']['P']['T']['y'],A3_t)}\n",
    "\n",
    "V['A3']['F']['T'] = {'m':-1/m1, 'x':rx(V['A1']['F']['R']['x'],V['A1']['F']['R']['y'],A3_t), 'y':ry(V['A1']['F']['R']['x'],V['A1']['F']['R']['y'],A3_t)}\n",
    "V['A3']['F']['B'] = {'m':-1/m1, 'x':rx(V['A1']['F']['L']['x'],V['A1']['F']['L']['y'],A3_t), 'y':ry(V['A1']['F']['L']['x'],V['A1']['F']['L']['y'],A3_t)}\n",
    "V['A3']['F']['R'] = {'m':m1, 'x':rx(V['A1']['F']['B']['x'],V['A1']['F']['B']['y'],A3_t), 'y':ry(V['A1']['F']['B']['x'],V['A1']['F']['B']['y'],A3_t)}\n",
    "V['A3']['F']['L'] = {'m':m1, 'x':rx(V['A1']['F']['T']['x'],V['A1']['F']['T']['y'],A3_t), 'y':ry(V['A1']['F']['T']['x'],V['A1']['F']['T']['y'],A3_t)}\n",
    "\n",
    "V['A3']['S']['C'] = {'x0':rx(V['A1']['S']['C']['x0'],V['A1']['S']['C']['y0'],A3_t),'y0':ry(V['A1']['S']['C']['x0'],V['A1']['S']['C']['y0'],A3_t)}\n",
    "V['A3']['S']['Cb'] = {'x0':rx(V['A1']['S']['Cb']['x0'],V['A1']['S']['Cb']['y0'],A3_t),'y0':ry(V['A1']['S']['Cb']['x0'],V['A1']['S']['Cb']['y0'],A3_t)}\n",
    "\n",
    "V['A3']['CS']['T'] = {'m':-1/m1, 'x':rx(V['A1']['CS']['R']['x'],V['A1']['CS']['R']['y'],A3_t), 'y':ry(V['A1']['CA']['R']['x'],V['A1']['CA']['R']['y'],A3_t)}\n",
    "V['A3']['CS']['B'] = {'m':-1/m1, 'x':rx(V['A1']['CS']['L']['x'],V['A1']['CS']['L']['y'],A3_t), 'y':ry(V['A1']['CA']['L']['x'],V['A1']['CA']['L']['y'],A3_t)}\n",
    "V['A3']['CS']['R'] = {'m':m1, 'x':rx(V['A1']['CS']['B']['x'],V['A1']['CS']['B']['y'],A3_t), 'y':ry(V['A1']['CA']['B']['x'],V['A1']['CA']['B']['y'],A3_t)}\n",
    "V['A3']['CS']['L'] = {'m':m1, 'x':rx(V['A1']['CS']['T']['x'],V['A1']['CS']['T']['y'],A3_t), 'y':ry(V['A1']['CA']['T']['x'],V['A1']['CA']['T']['y'],A3_t)}\n",
    "\n",
    "V['A3']['CA']['T'] = {'m':-1/m1, 'x':rx(V['A1']['CA']['R']['x'],V['A1']['CA']['R']['y'],A3_t), 'y':ry(V['A1']['CA']['R']['x'],V['A1']['CA']['R']['y'],A3_t)}\n",
    "V['A3']['CA']['B'] = {'m':-1/m1, 'x':rx(V['A1']['CA']['L']['x'],V['A1']['CA']['L']['y'],A3_t), 'y':ry(V['A1']['CA']['L']['x'],V['A1']['CA']['L']['y'],A3_t)}\n",
    "V['A3']['CA']['R'] = {'m':m1, 'x':rx(V['A1']['CA']['B']['x'],V['A1']['CA']['B']['y'],A3_t), 'y':ry(V['A1']['CA']['B']['x'],V['A1']['CA']['B']['y'],A3_t)}\n",
    "V['A3']['CA']['L'] = {'m':m1, 'x':rx(V['A1']['CA']['T']['x'],V['A1']['CA']['T']['y'],A3_t), 'y':ry(V['A1']['CA']['T']['x'],V['A1']['CA']['T']['y'],A3_t)}\n"
   ]
  },
  {
   "cell_type": "code",
   "execution_count": 10,
   "metadata": {},
   "outputs": [],
   "source": [
    "# Diamond Plank Area\n",
    "A1_D_cell = openmc.Cell(fill=flibe)\n",
    "A1_D_cell.region = region_maker('A1','D') &-top_surface &+ bot_surface\n",
    "\n",
    "A2_D_cell = openmc.Cell(fill=flibe)\n",
    "A2_D_cell.region = region_maker('A2','D') &-top_surface &+ bot_surface\n",
    "\n",
    "A3_D_cell = openmc.Cell(fill=flibe)\n",
    "A3_D_cell.region = region_maker('A3','D') &-top_surface &+ bot_surface\n",
    "\n",
    "D_regions = A1_D_cell.region | A2_D_cell.region | A3_D_cell.region \n",
    "D_universe = openmc.Universe(cells=(A1_D_cell,A2_D_cell,A3_D_cell,))\n",
    "D_areas = openmc.Cell(fill=D_universe,region=D_regions)\n",
    "H_cell.region &= ~D_regions"
   ]
  },
  {
   "cell_type": "code",
   "execution_count": 11,
   "metadata": {},
   "outputs": [],
   "source": [
    "# Graphite Planks \n",
    "all_P_univ = openmc.Universe()\n",
    "all_P_regions = region_maker('A1','P') # initialize\n",
    "T = {'A1':{'P':{},'F':{},'S':{}},'A2':{'P':{},'F':{},'S':{}},'A3':{'P':{},'F':{},'S':{}}}\n",
    "T['A1']['P'] = {'x':(P_big_gap+P_A1_height)/tan(pi/3),'y':-(P_big_gap+P_A1_height)}\n",
    "T['A2']['P'] = {'x':-P_A2_hyp-P_big_gap_A2_hyp, 'y':0}\n",
    "T['A3']['P'] = {'x':(P_A3_hyp+P_big_gap_A3_hyp)*cos(pi/3), 'y':(P_A3_hyp+P_big_gap_A3_hyp)*sin(pi/3)}\n",
    "\n",
    "for area in range(3):\n",
    "    area_str = 'A{}'.format(area+1)\n",
    "    P_region = region_maker(area_str,'P')\n",
    "    P_cell = openmc.Cell(fill=p_graphite,region=P_region)\n",
    "    P_univ = openmc.Universe(cells=(P_cell,))\n",
    "    for trans in range(6):\n",
    "        P_region_new = P_region.translate((trans*T[area_str]['P']['x'],trans*T[area_str]['P']['y'],0))\n",
    "        P_cell_new = openmc.Cell(fill=P_univ,region=P_region_new)\n",
    "        P_cell_new.translation = (trans*T[area_str]['P']['x'],trans*T[area_str]['P']['y'],0)\n",
    "        all_P_univ.add_cell(P_cell_new)\n",
    "        all_P_regions |= P_region_new\n",
    "        D_areas.region &= ~P_region_new\n",
    "        H_cell.region &= ~P_region_new\n",
    "P_areas = openmc.Cell(fill=all_P_univ,region=all_P_regions&-top_surface &+ bot_surface)"
   ]
  },
  {
   "cell_type": "code",
   "execution_count": 12,
   "metadata": {},
   "outputs": [],
   "source": [
    "# Triso Particles \n",
    "spheres = [openmc.Sphere(r=1e-5*r)\n",
    "           for r in [2135., 3135., 3485., 3835., 4235,]]\n",
    "triso_cells = [openmc.Cell(fill=uoc_9, region=-spheres[0]),\n",
    "         openmc.Cell(fill=por_c, region=+spheres[0] & -spheres[1]),\n",
    "         openmc.Cell(fill=graphite, region=+spheres[1] & -spheres[2]),\n",
    "         openmc.Cell(fill=si_c, region=+spheres[2] & -spheres[3]),\n",
    "         openmc.Cell(fill=graphite, region=+spheres[3] &-spheres[4]),\n",
    "         openmc.Cell(fill=lm_graphite, region=+spheres[4])]\n",
    "triso_univ = openmc.Universe(cells=triso_cells)\n",
    "lm_graphite_cell = openmc.Cell(fill=lm_graphite)\n",
    "lm_graphite_univ = openmc.Universe(cells=(lm_graphite_cell,))\n",
    "\n",
    "u = triso_univ\n",
    "lattice = openmc.RectLattice()\n",
    "lattice.lower_left = (V['A1']['F']['L']['x'], V['A1']['F']['B']['y'])\n",
    "lattice.pitch = (T_pitch, T_pitch)\n",
    "lattice.outer = lm_graphite_univ\n",
    "lattice_list = []\n",
    "for row in range(4):\n",
    "    lattice_in_list = []\n",
    "    for col in range(210):\n",
    "        lattice_in_list.append(u)\n",
    "    lattice_list.append(lattice_in_list)\n",
    "lattice.universes = lattice_list"
   ]
  },
  {
   "cell_type": "code",
   "execution_count": 13,
   "metadata": {},
   "outputs": [],
   "source": [
    "# Fuel Plank \n",
    "all_F_univ = openmc.Universe()\n",
    "all_F_regions = region_maker('A1','F') # initialize\n",
    "T['A1']['F'] = {'x':F_F_gap_adj+F_A1_width_adj, 'y':-F_F_gap-F_width}\n",
    "T['A2']['F'] = {'x':-F_F_gap_A2_hyp-F_A2_width_hyp, 'y':0}\n",
    "T['A3']['F'] = {'x':F_F_gap_A3_adj+F_A3_width_adj, 'y':F_F_gap_A3_opp+F_A3_width_opp}\n",
    "\n",
    "for area in range(3): \n",
    "    area_str = 'A{}'.format(area+1)\n",
    "    F_region = region_maker(area_str,'F')\n",
    "    F_cell = openmc.Cell(fill=lm_graphite,)\n",
    "    F_cell.fill = lattice\n",
    "    F_univ = openmc.Universe(cells=(F_cell,))\n",
    "    for t in range(6):\n",
    "        for x in range(2):\n",
    "            x_trans = t*T[area_str]['P']['x']\n",
    "            y_trans = t*T[area_str]['P']['y']\n",
    "            if x == 1:\n",
    "                x_trans += T[area_str]['F']['x']\n",
    "                y_trans += T[area_str]['F']['y']\n",
    "            F_region_new = F_region.translate((x_trans,y_trans,0))\n",
    "            F_cell_new = openmc.Cell(fill=F_univ,region=F_region_new)\n",
    "            if area == 1: \n",
    "                F_cell_new.rotation = (0,0,-120)\n",
    "            if area == 2: \n",
    "                F_cell_new.rotation = (0,0,120)\n",
    "            F_cell_new.translation = (x_trans,y_trans,0)\n",
    "            all_F_univ.add_cell(F_cell_new)\n",
    "            all_F_regions |= F_region_new\n",
    "            P_areas.region &= ~F_region_new \n",
    "            D_areas.region &= ~F_region_new\n",
    "            H_cell.region &= ~F_region_new \n",
    "F_areas = openmc.Cell(fill=all_F_univ,region=all_F_regions&-top_surface &+ bot_surface)"
   ]
  },
  {
   "cell_type": "code",
   "execution_count": 14,
   "metadata": {},
   "outputs": [],
   "source": [
    "# Spacer \n",
    "all_S_univ = openmc.Universe()\n",
    "S_small_spacer_surf = openmc.ZCylinder(r=S_small_r,x0=-D_to_center_width-S_A1_D_gap,y0=-D_to_center-P_small_gap) # initialize \n",
    "all_S_regions = -S_small_spacer_surf & +plane(V['A1']['P']['T']['m'],V['A1']['P']['T']['x'],V['A1']['P']['T']['y'])\n",
    "T['A1']['S'] = {'x':-S_S_gap, 'y':0}\n",
    "T['A2']['S'] = {'x':S_S_gap*cos(pi/3), 'y':S_S_gap*sin(pi/3)}\n",
    "T['A3']['S'] = {'x':S_S_gap*cos(pi/3), 'y':-S_S_gap*sin(pi/3)}\n",
    "\n",
    "# outer loop is for 3 types of spacers, small top, big middle, small bottom \n",
    "rad = [S_small_r, S_large_r,S_small_r] \n",
    "start = [0,1,5]\n",
    "end = [1,6,6]\n",
    "C = ['C','C','Cb']\n",
    "for y in range(3):      \n",
    "    for area in range(3):\n",
    "        area_str = 'A{}'.format(area+1)\n",
    "        S_cylinder = openmc.ZCylinder(r=rad[y],x0=V[area_str]['S'][C[y]]['x0'],y0=V[area_str]['S'][C[y]]['y0']) \n",
    "        if area == 0:\n",
    "            S_region = -S_cylinder & +plane(V[area_str]['P']['T']['m'],V[area_str]['P']['T']['x'],V[area_str]['P']['T']['y'])\n",
    "            if y == 2: \n",
    "                S_region = -S_cylinder & -plane(V[area_str]['P']['B']['m'],V[area_str]['P']['B']['x'],V[area_str]['P']['B']['y'])\n",
    "        if area == 1:\n",
    "            S_region = -S_cylinder & -plane(V[area_str]['P']['R']['m'],V[area_str]['P']['R']['x'],V[area_str]['P']['R']['y'])   \n",
    "            if y == 2: \n",
    "                S_region = -S_cylinder & +plane(V[area_str]['P']['L']['m'],V[area_str]['P']['L']['x'],V[area_str]['P']['L']['y'])\n",
    "        if area == 2:\n",
    "            S_region = -S_cylinder & -plane(V[area_str]['P']['L']['m'],V[area_str]['P']['L']['x'],V[area_str]['P']['L']['y'])     \n",
    "            if y == 2: \n",
    "                S_region = -S_cylinder & +plane(V[area_str]['P']['R']['m'],V[area_str]['P']['R']['x'],V[area_str]['P']['R']['y'])\n",
    "        S_cell = openmc.Cell(fill=s_graphite,region=S_region)\n",
    "        S_univ = openmc.Universe(cells=(S_cell,))\n",
    "        for trans in range(start[y],end[y]):\n",
    "            for x in range(2):\n",
    "                x_trans = trans*T[area_str]['P']['x']\n",
    "                y_trans = trans*T[area_str]['P']['y']\n",
    "                if x == 1:\n",
    "                    x_trans += T[area_str]['S']['x']\n",
    "                    y_trans += T[area_str]['S']['y']\n",
    "                S_region_new = S_region.translate((x_trans,y_trans,0))\n",
    "                S_cell_new = openmc.Cell(fill=S_univ,region=S_region_new)\n",
    "                S_cell_new.translation = (x_trans,y_trans,0)\n",
    "                all_S_univ.add_cell(S_cell_new)\n",
    "                all_S_regions |= S_region_new\n",
    "                F_areas.region &= ~S_region_new\n",
    "                P_areas.region &= ~S_region_new\n",
    "                D_areas.region &= ~S_region_new\n",
    "                H_cell.region &= ~S_region_new\n",
    "S_areas = openmc.Cell(fill=all_S_univ,region=all_S_regions&-top_surface &+ bot_surface)"
   ]
  },
  {
   "cell_type": "code",
   "execution_count": 15,
   "metadata": {},
   "outputs": [],
   "source": [
    "# Control Rod Slot \n",
    "\n",
    "A1_CS_cell = openmc.Cell(fill=flibe)\n",
    "A1_CS_cell.region = region_maker('A1','CS') &-top_surface &+ bot_surface\n",
    "\n",
    "A2_CS_cell = openmc.Cell(fill=flibe)\n",
    "A2_CS_cell.region = region_maker('A2','CS') &-top_surface &+ bot_surface\n",
    "\n",
    "A3_CS_cell = openmc.Cell(fill=flibe)\n",
    "A3_CS_cell.region = region_maker('A3','CS') &-top_surface &+ bot_surface\n",
    "\n",
    "CS_regions = A1_CS_cell.region | A2_CS_cell.region | A3_CS_cell.region \n",
    "CS_universe = openmc.Universe(cells=(A1_CS_cell,A2_CS_cell,A3_CS_cell,))\n",
    "CS_areas = openmc.Cell(fill=CS_universe,region=CS_regions)\n",
    "S_areas.region &= ~CS_regions \n",
    "F_areas.region &= ~CS_regions \n",
    "P_areas.region &= ~CS_regions \n",
    "D_areas.region &= ~CS_regions \n",
    "H_cell.region &= ~CS_regions "
   ]
  },
  {
   "cell_type": "code",
   "execution_count": 16,
   "metadata": {},
   "outputs": [],
   "source": [
    "# Control Rod Arm\n",
    "A1_CA_cell = openmc.Cell(fill=flibe)\n",
    "A1_CA_cell.region = region_maker('A1','CA') &-top_surface &+ bot_surface\n",
    "\n",
    "A2_CA_cell = openmc.Cell(fill=flibe)\n",
    "A2_CA_cell.region = region_maker('A2','CA') &-top_surface &+ bot_surface\n",
    "\n",
    "A3_CA_cell = openmc.Cell(fill=flibe)\n",
    "A3_CA_cell.region = region_maker('A3','CA') &-top_surface &+ bot_surface\n",
    "\n",
    "CA_regions = A1_CA_cell.region | A2_CA_cell.region | A3_CA_cell.region \n",
    "CA_universe = openmc.Universe(cells=(A1_CA_cell,A2_CA_cell,A3_CA_cell,))\n",
    "CA_areas = openmc.Cell(fill=CA_universe,region=CA_regions)\n",
    "CS_areas.region &= ~CA_regions\n",
    "S_areas.region &= ~CA_regions \n",
    "F_areas.region &= ~CA_regions \n",
    "P_areas.region &= ~CA_regions \n",
    "D_areas.region &= ~CA_regions \n",
    "H_cell.region &= ~CA_regions "
   ]
  },
  {
   "cell_type": "code",
   "execution_count": 17,
   "metadata": {},
   "outputs": [
    {
     "data": {
      "image/png": "[encoded data removed]",
      "text/plain": [
       "<Figure size 432x288 with 1 Axes>"
      ]
     },
     "metadata": {
      "needs_background": "light"
     },
     "output_type": "display_data"
    }
   ],
   "source": [
    "# Plotting \n",
    "root = openmc.Universe(cells=[H_cell,D_areas,P_areas,F_areas,S_areas,CS_areas,CA_areas])\n",
    "root.plot(width=(20, 20), basis='xy', color_by = 'material',\n",
    "    pixels = (300,300),\n",
    "    origin = (-3,0,0),\n",
    "    colors = {\n",
    "    graphite: 'grey', \n",
    "    p_graphite:'red',\n",
    "    flibe: 'blue',\n",
    "    lm_graphite: 'green',\n",
    "    s_graphite: 'pink'\n",
    "})\n",
    "plt.savefig('c1a_control_rods.png')"
   ]
  },
  {
   "cell_type": "code",
   "execution_count": 31,
   "metadata": {},
   "outputs": [
    {
     "data": {
      "image/png": "[encoded data removed]",
      "text/plain": [
       "<Figure size 432x288 with 1 Axes>"
      ]
     },
     "metadata": {
      "needs_background": "light"
     },
     "output_type": "display_data"
    }
   ],
   "source": [
    "# Plotting \n",
    "root = openmc.Universe(cells=[H_cell,D_areas,P_areas,F_areas,S_areas,CS_areas,CA_areas])\n",
    "root.plot(width=(60, 60), basis='xy', color_by = 'material',\n",
    "    pixels = (1000,1000),\n",
    "    colors = {\n",
    "    graphite: 'grey', \n",
    "    p_graphite:'red',\n",
    "    flibe: 'blue',\n",
    "    lm_graphite: 'green',\n",
    "    s_graphite: 'pink'\n",
    "})\n",
    "plt.savefig('fhr_assembly_2D.png')"
   ]
  },
  {
   "cell_type": "code",
   "execution_count": 21,
   "metadata": {},
   "outputs": [
    {
     "data": {
      "image/png": "[encoded data removed]",
      "text/plain": [
       "<Figure size 432x288 with 1 Axes>"
      ]
     },
     "metadata": {
      "needs_background": "light"
     },
     "output_type": "display_data"
    }
   ],
   "source": [
    "# Plotting \n",
    "root = openmc.Universe(cells=[H_cell,D_areas,P_areas,F_areas,S_areas,CS_areas,CA_areas])\n",
    "root.plot(width=(20, 20), basis='xy', color_by = 'material',\n",
    "    pixels = (300,300),\n",
    "    origin = (-10,-10,0),\n",
    "    colors = {\n",
    "    graphite: 'grey', \n",
    "    p_graphite:'red',\n",
    "    flibe: 'blue',\n",
    "    lm_graphite: 'green',\n",
    "    s_graphite: 'pink'\n",
    "})\n",
    "plt.savefig('c1a_A1.png')"
   ]
  },
  {
   "cell_type": "code",
   "execution_count": 24,
   "metadata": {},
   "outputs": [
    {
     "data": {
      "image/png": "[encoded data removed]",
      "text/plain": [
       "<Figure size 432x288 with 1 Axes>"
      ]
     },
     "metadata": {
      "needs_background": "light"
     },
     "output_type": "display_data"
    }
   ],
   "source": [
    "# Plotting \n",
    "root = openmc.Universe(cells=[H_cell,D_areas,P_areas,F_areas,S_areas,CS_areas,CA_areas])\n",
    "root.plot(width=(22, 8), basis='xy', color_by = 'material',\n",
    "    pixels = (300,300),\n",
    "    origin = (-10,-5,0),\n",
    "    colors = {\n",
    "    graphite: 'grey', \n",
    "    p_graphite:'red',\n",
    "    flibe: 'blue',\n",
    "    lm_graphite: 'green',\n",
    "    s_graphite: 'pink'\n",
    "})\n",
    "plt.savefig('c1a_A1_P12.png')"
   ]
  },
  {
   "cell_type": "code",
   "execution_count": 25,
   "metadata": {},
   "outputs": [
    {
     "data": {
      "image/png": "[encoded data removed]",
      "text/plain": [
       "<Figure size 432x288 with 1 Axes>"
      ]
     },
     "metadata": {
      "needs_background": "light"
     },
     "output_type": "display_data"
    }
   ],
   "source": [
    "# Plotting \n",
    "root = openmc.Universe(cells=[H_cell,D_areas,P_areas,F_areas,S_areas,CS_areas,CA_areas])\n",
    "root.plot(width=(5, 5), basis='xy', color_by = 'material',\n",
    "    pixels = (300,300),\n",
    "    origin = (-18,-3,0),\n",
    "    colors = {\n",
    "    graphite: 'grey', \n",
    "    p_graphite:'red',\n",
    "    flibe: 'blue',\n",
    "    lm_graphite: 'green',\n",
    "    s_graphite: 'pink'\n",
    "})\n",
    "plt.savefig('c1a_A1_P1.png')"
   ]
  },
  {
   "cell_type": "code",
   "execution_count": 29,
   "metadata": {},
   "outputs": [
    {
     "data": {
      "image/png": "[encoded data removed]",
      "text/plain": [
       "<Figure size 432x288 with 1 Axes>"
      ]
     },
     "metadata": {
      "needs_background": "light"
     },
     "output_type": "display_data"
    }
   ],
   "source": [
    "# Plotting \n",
    "root = openmc.Universe(cells=[H_cell,D_areas,P_areas,F_areas,S_areas,CS_areas,CA_areas])\n",
    "root.plot(width=(1, 1), basis='xy', color_by = 'material',\n",
    "    pixels = (300,300),\n",
    "    origin = (-19,-2.5,0),\n",
    "    colors = {\n",
    "    graphite: 'grey', \n",
    "    p_graphite:'red',\n",
    "    flibe: 'blue',\n",
    "    lm_graphite: 'green',\n",
    "    s_graphite: 'pink'\n",
    "})\n",
    "plt.savefig('c1a_A1_P1_triso.png')"
   ]
  },
  {
   "cell_type": "code",
   "execution_count": 33,
   "metadata": {},
   "outputs": [
    {
     "data": {
      "image/png": "[encoded data removed]",
      "text/plain": [
       "<Figure size 432x288 with 1 Axes>"
      ]
     },
     "metadata": {
      "needs_background": "light"
     },
     "output_type": "display_data"
    }
   ],
   "source": [
    "# Plotting \n",
    "root = openmc.Universe(cells=[H_cell,D_areas,P_areas,F_areas,S_areas,CS_areas,CA_areas])\n",
    "root.plot(width=(0.5, 0.5), basis='xy', color_by = 'material',\n",
    "    pixels = (300,300),\n",
    "    origin = (-19,-2.5,0),\n",
    "    colors = {\n",
    "    graphite: 'grey', \n",
    "    p_graphite:'red',\n",
    "    flibe: 'blue',\n",
    "    lm_graphite: 'green',\n",
    "    s_graphite: 'pink'\n",
    "})\n",
    "plt.savefig('c1a_A1_P1_triso2.png')"
   ]
  },
  {
   "cell_type": "code",
   "execution_count": 32,
   "metadata": {},
   "outputs": [
    {
     "data": {
      "image/png": "[encoded data removed]",
      "text/plain": [
       "<Figure size 432x288 with 1 Axes>"
      ]
     },
     "metadata": {
      "needs_background": "light"
     },
     "output_type": "display_data"
    }
   ],
   "source": [
    "# Plotting \n",
    "root = openmc.Universe(cells=[H_cell,D_areas,P_areas,F_areas,S_areas,CS_areas,CA_areas])\n",
    "root.plot(width=(1, 1), basis='xz', color_by = 'material',\n",
    "    pixels = (300,300),\n",
    "    origin = (-19,-2.5,0),\n",
    "    colors = {\n",
    "    graphite: 'grey', \n",
    "    p_graphite:'red',\n",
    "    flibe: 'blue',\n",
    "    lm_graphite: 'green',\n",
    "    s_graphite: 'pink'\n",
    "})\n",
    "plt.savefig('c1a_A1_P1_triso_xz.png')"
   ]
  },
  {
   "cell_type": "code",
   "execution_count": 17,
   "metadata": {},
   "outputs": [],
   "source": [
    "root = openmc.Universe(cells=[H_cell,D_areas,P_areas,F_areas,S_areas,CS_areas,CA_areas])\n",
    "geom = openmc.Geometry(root)\n",
    "geom.export_to_xml()\n",
    "point = openmc.stats.Point((0, 0, 0))\n",
    "src = openmc.Source(space=point)\n",
    "settings = openmc.Settings()\n",
    "#settings.source = src\n",
    "settings.batches = 1000\n",
    "settings.inactive = 100\n",
    "settings.particles = 1000000\n",
    "settings.temperature = {'multipole':True,'method':'interpolation'}\n",
    "settings.export_to_xml()"
   ]
  },
  {
   "cell_type": "code",
   "execution_count": null,
   "metadata": {},
   "outputs": [],
   "source": [
    "openmc.run()"
   ]
  },
  {
   "cell_type": "code",
   "execution_count": null,
   "metadata": {},
   "outputs": [],
   "source": []
  },
  {
   "cell_type": "code",
   "execution_count": null,
   "metadata": {},
   "outputs": [],
   "source": []
  }
 ],
 "metadata": {
  "kernelspec": {
   "display_name": "openmc-ker",
   "language": "python",
   "name": "openmc-ker"
  },
  "language_info": {
   "codemirror_mode": {
    "name": "ipython",
    "version": 3
   },
   "file_extension": ".py",
   "mimetype": "text/x-python",
   "name": "python",
   "nbconvert_exporter": "python",
   "pygments_lexer": "ipython3",
   "version": "3.8.2"
  }
 },
 "nbformat": 4,
 "nbformat_minor": 4
}
