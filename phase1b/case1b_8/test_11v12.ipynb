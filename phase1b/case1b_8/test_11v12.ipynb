{
 "cells": [
  {
   "cell_type": "code",
   "execution_count": 1,
   "metadata": {},
   "outputs": [],
   "source": [
    "import openmc.deplete\n",
    "from matplotlib import pyplot"
   ]
  },
  {
   "cell_type": "code",
   "execution_count": 2,
   "metadata": {},
   "outputs": [],
   "source": [
    "results_11 = openmc.deplete.ResultsList.from_hdf5(\"depletion_results_11.h5\")"
   ]
  },
  {
   "cell_type": "code",
   "execution_count": 3,
   "metadata": {},
   "outputs": [],
   "source": [
    "results_12 = openmc.deplete.ResultsList.from_hdf5(\"depletion_results_12.h5\")"
   ]
  },
  {
   "cell_type": "code",
   "execution_count": 4,
   "metadata": {},
   "outputs": [],
   "source": [
    "time_11, k_11 = results_11.get_eigenvalue()\n",
    "time_11 /= (24 * 60 * 60)  # convert back to days from seconds"
   ]
  },
  {
   "cell_type": "code",
   "execution_count": 5,
   "metadata": {},
   "outputs": [],
   "source": [
    "time_12, k_12 = results_12.get_eigenvalue()\n",
    "time_12 /= (24 * 60 * 60)  # convert back to days from seconds"
   ]
  },
  {
   "cell_type": "code",
   "execution_count": 6,
   "metadata": {},
   "outputs": [
    {
     "data": {
      "image/png": "[encoded data removed]",
      "text/plain": [
       "<Figure size 432x288 with 1 Axes>"
      ]
     },
     "metadata": {
      "needs_background": "light"
     },
     "output_type": "display_data"
    }
   ],
   "source": [
    "pyplot.errorbar(time_11, k_11[:, 0], yerr=k_11[:, 1])\n",
    "pyplot.xlabel(\"Time [d]\")\n",
    "pyplot.ylabel(\"$k_{eff}\\pm \\sigma$\");"
   ]
  },
  {
   "cell_type": "code",
   "execution_count": 7,
   "metadata": {},
   "outputs": [
    {
     "data": {
      "image/png": "[encoded data removed]",
      "text/plain": [
       "<Figure size 432x288 with 1 Axes>"
      ]
     },
     "metadata": {
      "needs_background": "light"
     },
     "output_type": "display_data"
    }
   ],
   "source": [
    "pyplot.errorbar(time_12, k_12[:, 0], yerr=k_12[:, 1])\n",
    "pyplot.xlabel(\"Time [d]\")\n",
    "pyplot.ylabel(\"$k_{eff}\\pm \\sigma$\");"
   ]
  },
  {
   "cell_type": "code",
   "execution_count": 8,
   "metadata": {},
   "outputs": [],
   "source": [
    "_time, u5_11 = results_11.get_atoms(\"1\", \"U235\")\n",
    "_time, xe135_11 = results_11.get_atoms(\"1\", \"Xe135\",\"atom/b-cm\")\n",
    "_time, u8_11 = results_11.get_atoms(\"1\", \"U238\",\"atom/b-cm\")\n",
    "_time, cm242_11 = results_11.get_atoms(\"1\", \"Cm242\",\"atom/b-cm\")"
   ]
  },
  {
   "cell_type": "code",
   "execution_count": 9,
   "metadata": {},
   "outputs": [],
   "source": [
    "_time, u5_12 = results_12.get_atoms(\"1\", \"U235\")\n",
    "_time, xe135_12 = results_12.get_atoms(\"1\", \"Xe135\",\"atom/b-cm\")\n",
    "_time, u8_12 = results_12.get_atoms(\"1\", \"U238\",\"atom/b-cm\")\n",
    "_time, cm242_12 = results_12.get_atoms(\"1\", \"Cm242\",\"atom/b-cm\")"
   ]
  },
  {
   "cell_type": "code",
   "execution_count": 10,
   "metadata": {},
   "outputs": [
    {
     "data": {
      "text/plain": [
       "array([4.41962920e+46, 4.41962152e+46, 4.41959523e+46, 4.41961033e+46])"
      ]
     },
     "execution_count": 10,
     "metadata": {},
     "output_type": "execute_result"
    }
   ],
   "source": [
    "u5_12[:4]/u5_11"
   ]
  },
  {
   "cell_type": "code",
   "execution_count": 11,
   "metadata": {},
   "outputs": [
    {
     "data": {
      "text/plain": [
       "array([2.61600002e+59, 4.89383973e+46, 4.44169803e+46, 4.47161697e+46])"
      ]
     },
     "execution_count": 11,
     "metadata": {},
     "output_type": "execute_result"
    }
   ],
   "source": [
    "xe135_12[:4]/xe135_11"
   ]
  },
  {
   "cell_type": "code",
   "execution_count": 12,
   "metadata": {},
   "outputs": [
    {
     "data": {
      "text/plain": [
       "array([4.42849292e+46, 4.42848759e+46, 4.42848835e+46, 4.42848422e+46])"
      ]
     },
     "execution_count": 12,
     "metadata": {},
     "output_type": "execute_result"
    }
   ],
   "source": [
    "u8_12[:4]/u8_11"
   ]
  },
  {
   "cell_type": "code",
   "execution_count": 13,
   "metadata": {},
   "outputs": [
    {
     "data": {
      "text/plain": [
       "array([1.48938764e+47, 1.31867553e+48, 4.60759900e+47, 2.32635255e+47])"
      ]
     },
     "execution_count": 13,
     "metadata": {},
     "output_type": "execute_result"
    }
   ],
   "source": [
    "cm242_12[:4]/cm242_11"
   ]
  },
  {
   "cell_type": "code",
   "execution_count": null,
   "metadata": {},
   "outputs": [],
   "source": [
    "from multiprocessing import Pool\n",
    "lists = [[1,2,3],[4,5,6]]\n",
    "def fun(x,y,z):\n",
    "    print(x,y,z)\n",
    "    return x*xprint(\"Pool\", lists)\n",
    "with Pool(2) as pool:\n",
    "    respool = list(pool.starmap(fun, lists))\n",
    "    print(\"done\", respool)\n",
    "    print(\"map\", lists)\n",
    "    resmap = list(map(fun, *zip(*lists)))\n",
    "    print(\"done\", resmap)"
   ]
  },
  {
   "cell_type": "code",
   "execution_count": null,
   "metadata": {},
   "outputs": [],
   "source": []
  }
 ],
 "metadata": {
  "kernelspec": {
   "display_name": "openmc-develop",
   "language": "python",
   "name": "openmc-develop"
  },
  "language_info": {
   "codemirror_mode": {
    "name": "ipython",
    "version": 3
   },
   "file_extension": ".py",
   "mimetype": "text/x-python",
   "name": "python",
   "nbconvert_exporter": "python",
   "pygments_lexer": "ipython3",
   "version": "3.8.3"
  }
 },
 "nbformat": 4,
 "nbformat_minor": 4
}
